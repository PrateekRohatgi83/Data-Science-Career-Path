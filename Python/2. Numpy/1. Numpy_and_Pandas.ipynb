{
  "nbformat": 4,
  "nbformat_minor": 0,
  "metadata": {
    "colab": {
      "provenance": []
    },
    "kernelspec": {
      "name": "python3",
      "display_name": "Python 3"
    },
    "language_info": {
      "name": "python"
    }
  },
  "cells": [
    {
      "cell_type": "code",
      "execution_count": 1,
      "metadata": {
        "colab": {
          "base_uri": "https://localhost:8080/"
        },
        "id": "FUpK31b98HqE",
        "outputId": "77881f35-74dd-4b98-b9ba-0527500123d0"
      },
      "outputs": [
        {
          "output_type": "stream",
          "name": "stdout",
          "text": [
            "One dimensional array :  [1 2 3 4 5]\n"
          ]
        }
      ],
      "source": [
        "#Creating 1D and 2D arrays\n",
        "import numpy as np\n",
        "numbers = [1, 2, 3, 4, 5]\n",
        "numbers = np.array(numbers)\n",
        "print(\"One dimensional array : \", numbers)"
      ]
    },
    {
      "cell_type": "code",
      "source": [
        "numbers = [1, 2, 3, 4, 5], [\"hello\", \"world\"]\n",
        "numbers = np.array(numbers)\n",
        "print(\"Two dimensional array : \", numbers)"
      ],
      "metadata": {
        "colab": {
          "base_uri": "https://localhost:8080/"
        },
        "id": "2FmdJzOIERSG",
        "outputId": "4e222aae-9a0f-449e-f5ee-d3599f8ab0cd"
      },
      "execution_count": 2,
      "outputs": [
        {
          "output_type": "stream",
          "name": "stdout",
          "text": [
            "Two dimensional array :  [list([1, 2, 3, 4, 5]) list(['hello', 'world'])]\n"
          ]
        },
        {
          "output_type": "stream",
          "name": "stderr",
          "text": [
            "<ipython-input-2-08a554ea7de9>:2: VisibleDeprecationWarning: Creating an ndarray from ragged nested sequences (which is a list-or-tuple of lists-or-tuples-or ndarrays with different lengths or shapes) is deprecated. If you meant to do this, you must specify 'dtype=object' when creating the ndarray.\n",
            "  numbers = np.array(numbers)\n"
          ]
        }
      ]
    },
    {
      "cell_type": "code",
      "source": [
        "#Eye function in NumPy\n",
        "eye_mat = np.eye(3)\n",
        "print(\"One across diagonals : \\n\\n\", eye_mat)"
      ],
      "metadata": {
        "colab": {
          "base_uri": "https://localhost:8080/"
        },
        "id": "62snMkGME6VR",
        "outputId": "e36b0dc6-0ecd-4316-de93-97e640777c3b"
      },
      "execution_count": 3,
      "outputs": [
        {
          "output_type": "stream",
          "name": "stdout",
          "text": [
            "One across diagonals : \n",
            "\n",
            " [[1. 0. 0.]\n",
            " [0. 1. 0.]\n",
            " [0. 0. 1.]]\n"
          ]
        }
      ]
    },
    {
      "cell_type": "code",
      "source": [
        "#Random numbers from 1 to 100 printing 10\n",
        "random_print = np.random.randint(0, 100, 10)\n",
        "print(\"Random numbers from 1 to 100 printing 10 : \\n\\n \", random_print)"
      ],
      "metadata": {
        "colab": {
          "base_uri": "https://localhost:8080/"
        },
        "id": "qg9RoNgDFPdd",
        "outputId": "6c0fe3ec-565e-4332-a996-4566976776a3"
      },
      "execution_count": 4,
      "outputs": [
        {
          "output_type": "stream",
          "name": "stdout",
          "text": [
            "Random numbers from 1 to 100 printing 10 : \n",
            "\n",
            "  [67 26 63 80 39 69 49 85 17 40]\n"
          ]
        }
      ]
    },
    {
      "cell_type": "code",
      "source": [
        "#Printing the last element in array\n",
        "names = np.array([\"Abhishek\", \"Rahul\", \"Bhavesh\", \"Beth\"])\n",
        "print(\"Last element of the array is \", names[-1])"
      ],
      "metadata": {
        "colab": {
          "base_uri": "https://localhost:8080/"
        },
        "id": "ZSaneb8tGP92",
        "outputId": "902545b5-47f3-485c-af95-de1c2f37cb19"
      },
      "execution_count": 5,
      "outputs": [
        {
          "output_type": "stream",
          "name": "stdout",
          "text": [
            "Last element of the array is  Beth\n"
          ]
        }
      ]
    },
    {
      "cell_type": "code",
      "source": [
        "#Printing 3rd element of the 2nd row\n",
        "numbers = np.array([[1, 2, 3], [4, 5, 6], [7, 8, 9]])\n",
        "print(numbers[1, 2])"
      ],
      "metadata": {
        "colab": {
          "base_uri": "https://localhost:8080/"
        },
        "id": "2vQZuMXhKO3-",
        "outputId": "279432af-94ea-4191-ba8c-44a9c53139cc"
      },
      "execution_count": 7,
      "outputs": [
        {
          "output_type": "stream",
          "name": "stdout",
          "text": [
            "6\n"
          ]
        }
      ]
    },
    {
      "cell_type": "code",
      "source": [
        "#Using an array of 5 x 5, insert numbers from 1 to 25\n",
        "numbers = np.arange(1, 26).reshape(5, 5)\n",
        "print(numbers)"
      ],
      "metadata": {
        "colab": {
          "base_uri": "https://localhost:8080/"
        },
        "id": "9zwUqCEmK1r8",
        "outputId": "ecc5a21f-49c7-4b48-d6a2-b137bd016c33"
      },
      "execution_count": 9,
      "outputs": [
        {
          "output_type": "stream",
          "name": "stdout",
          "text": [
            "[[ 1  2  3  4  5]\n",
            " [ 6  7  8  9 10]\n",
            " [11 12 13 14 15]\n",
            " [16 17 18 19 20]\n",
            " [21 22 23 24 25]]\n"
          ]
        }
      ]
    },
    {
      "cell_type": "code",
      "source": [
        "#Replace all even numbers in array\n",
        "numbers = np.array([0, 1, 2, 3, 4, 5, 6, 7, 8, 9, 10])\n",
        "numbers[numbers % 2 == 0] = 5\n",
        "print(numbers)"
      ],
      "metadata": {
        "colab": {
          "base_uri": "https://localhost:8080/"
        },
        "id": "JpvK5GdqLWkd",
        "outputId": "4beb4ce5-5f1d-447a-fddd-bf51b405d1da"
      },
      "execution_count": 11,
      "outputs": [
        {
          "output_type": "stream",
          "name": "stdout",
          "text": [
            "[5 1 5 3 5 5 5 7 5 9 5]\n"
          ]
        }
      ]
    },
    {
      "cell_type": "code",
      "source": [
        "#Converting a 1D array into 2D array\n",
        "numbers = np.arange(10)\n",
        "print(numbers)\n",
        "print(\"Reshaped into 2 dimensions : \\n\")\n",
        "numbers.reshape(2, -1)"
      ],
      "metadata": {
        "colab": {
          "base_uri": "https://localhost:8080/"
        },
        "id": "FCCoUpjjL94x",
        "outputId": "49c66148-3a2a-496d-d2aa-bda4671ee63a"
      },
      "execution_count": 13,
      "outputs": [
        {
          "output_type": "stream",
          "name": "stdout",
          "text": [
            "[0 1 2 3 4 5 6 7 8 9]\n",
            "Reshaped into 2 dimensions : \n",
            "\n"
          ]
        },
        {
          "output_type": "execute_result",
          "data": {
            "text/plain": [
              "array([[0, 1, 2, 3, 4],\n",
              "       [5, 6, 7, 8, 9]])"
            ]
          },
          "metadata": {},
          "execution_count": 13
        }
      ]
    },
    {
      "cell_type": "code",
      "source": [
        "#Printing the common elements in 2 arrays\n",
        "x = np.array([10, 6, 30, 45, 2])\n",
        "y = np.array([36, 85, 10, 2, 7, 30])\n",
        "np.intersect1d(x, y)"
      ],
      "metadata": {
        "colab": {
          "base_uri": "https://localhost:8080/"
        },
        "id": "vYeRFplfMIzu",
        "outputId": "cac151e4-a84b-4458-a6bd-0f2a5a127455"
      },
      "execution_count": 20,
      "outputs": [
        {
          "output_type": "execute_result",
          "data": {
            "text/plain": [
              "array([ 2, 10, 30])"
            ]
          },
          "metadata": {},
          "execution_count": 20
        }
      ]
    },
    {
      "cell_type": "code",
      "source": [
        "#Printing elements from 4 to 10 in array\n",
        "numbers = np.arange(11)\n",
        "print(numbers)\n",
        "numbers[(numbers >= 4) & (numbers <= 10)]"
      ],
      "metadata": {
        "colab": {
          "base_uri": "https://localhost:8080/"
        },
        "id": "egcyYT8aNI-h",
        "outputId": "c0edea95-d637-404f-d72f-ab5d1c196d98"
      },
      "execution_count": 22,
      "outputs": [
        {
          "output_type": "stream",
          "name": "stdout",
          "text": [
            "[ 0  1  2  3  4  5  6  7  8  9 10]\n"
          ]
        },
        {
          "output_type": "execute_result",
          "data": {
            "text/plain": [
              "array([ 4,  5,  6,  7,  8,  9, 10])"
            ]
          },
          "metadata": {},
          "execution_count": 22
        }
      ]
    },
    {
      "cell_type": "code",
      "source": [
        "import pandas as pd"
      ],
      "metadata": {
        "id": "hI4YlCdwN6-D"
      },
      "execution_count": 23,
      "outputs": []
    },
    {
      "cell_type": "code",
      "source": [
        "#Sample series using Dictionary and Pandas\n",
        "sample_dict = {\"x\":1, \"y\":2, \"z\":3}\n",
        "the_series = pd.Series(sample_dict)\n",
        "print(the_series)"
      ],
      "metadata": {
        "colab": {
          "base_uri": "https://localhost:8080/"
        },
        "id": "xA-UyRYaOMgN",
        "outputId": "2e59dc66-bedf-4a71-8d73-1f16236b4f66"
      },
      "execution_count": 25,
      "outputs": [
        {
          "output_type": "stream",
          "name": "stdout",
          "text": [
            "x    1\n",
            "y    2\n",
            "z    3\n",
            "dtype: int64\n"
          ]
        }
      ]
    },
    {
      "cell_type": "code",
      "source": [
        "#Assigning names to the series index\n",
        "sample_series = pd.Series(list('1234567890'))\n",
        "sample_series.name = 'numbers'\n",
        "sample_series.head()"
      ],
      "metadata": {
        "colab": {
          "base_uri": "https://localhost:8080/"
        },
        "id": "GhmCuQ9ZOrjJ",
        "outputId": "b6cd0f77-fd5e-4a14-cef6-f6a01408f374"
      },
      "execution_count": 26,
      "outputs": [
        {
          "output_type": "execute_result",
          "data": {
            "text/plain": [
              "0    1\n",
              "1    2\n",
              "2    3\n",
              "3    4\n",
              "4    5\n",
              "Name: numbers, dtype: object"
            ]
          },
          "metadata": {},
          "execution_count": 26
        }
      ]
    },
    {
      "cell_type": "code",
      "source": [
        "#printing numbers that are present only in one series\n",
        "first_series = pd.Series([1, 2, 3, 4, 5, 6])\n",
        "second_series = pd.Series([5, 6, 7, 8])\n",
        "second_series[~second_series.isin(first_series)]"
      ],
      "metadata": {
        "colab": {
          "base_uri": "https://localhost:8080/"
        },
        "id": "6IxSY-KfPJuI",
        "outputId": "2f019ca1-7ec5-4ce9-c10c-bd448cddf570"
      },
      "execution_count": 29,
      "outputs": [
        {
          "output_type": "execute_result",
          "data": {
            "text/plain": [
              "2    7\n",
              "3    8\n",
              "dtype: int64"
            ]
          },
          "metadata": {},
          "execution_count": 29
        }
      ]
    },
    {
      "cell_type": "code",
      "source": [
        "#Converting NumPy arrays into Pandas dataframe\n",
        "sample_series = pd.Series(np.random.randint(1, 30, 25))\n",
        "data_frame = pd.DataFrame(sample_series.values.reshape(5, 5))\n",
        "print(data_frame)"
      ],
      "metadata": {
        "colab": {
          "base_uri": "https://localhost:8080/"
        },
        "id": "Wh7wcHtRQAqH",
        "outputId": "f52a50c3-b544-424a-9f99-9eea3fa116ef"
      },
      "execution_count": 30,
      "outputs": [
        {
          "output_type": "stream",
          "name": "stdout",
          "text": [
            "    0   1   2   3   4\n",
            "0  25   4  20  17  20\n",
            "1  19   3  13  20  17\n",
            "2  11   8  26  22  14\n",
            "3  20  27   3  10  18\n",
            "4  21   9  19  23  17\n"
          ]
        }
      ]
    }
  ]
}