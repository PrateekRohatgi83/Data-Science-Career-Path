{
  "cells": [
    {
      "cell_type": "code",
      "execution_count": 1,
      "metadata": {
        "id": "_U32mwtsSRDb"
      },
      "outputs": [],
      "source": [
        "import numpy as np"
      ]
    },
    {
      "cell_type": "code",
      "execution_count": 2,
      "metadata": {
        "colab": {
          "base_uri": "https://localhost:8080/"
        },
        "id": "2XcxgnCeSnE-",
        "outputId": "dc4c0e67-aa0d-4e97-9ca6-52086be6423c"
      },
      "outputs": [
        {
          "output_type": "execute_result",
          "data": {
            "text/plain": [
              "array([0., 0., 0., 5., 0., 0., 0., 0., 0., 0., 0., 0., 0., 0., 0., 0., 0.,\n",
              "       0., 0., 0.])"
            ]
          },
          "metadata": {},
          "execution_count": 2
        }
      ],
      "source": [
        "#Create an empty array of 20 0's and replace the 4th object with the number 5\n",
        "a = np.zeros(20)\n",
        "a[3]=5\n",
        "a"
      ]
    },
    {
      "cell_type": "code",
      "execution_count": 3,
      "metadata": {
        "colab": {
          "base_uri": "https://localhost:8080/"
        },
        "id": "IzT6ROBZS3iB",
        "outputId": "62a5ff25-5841-40a9-de9e-523319e9c575"
      },
      "outputs": [
        {
          "output_type": "execute_result",
          "data": {
            "text/plain": [
              "array([1., 1., 1., 1., 1., 1., 1., 1., 1., 1., 1., 1., 1., 1., 1., 1., 1.,\n",
              "       1., 1., 1.])"
            ]
          },
          "metadata": {},
          "execution_count": 3
        }
      ],
      "source": [
        "#Create an array of 20 1's and store it as a variable named array_master. Copy the same array into another variable named array_copy\n",
        "array_master = np.ones(20)\n",
        "array_copy = array_master.copy()\n",
        "array_copy"
      ]
    },
    {
      "cell_type": "code",
      "execution_count": 4,
      "metadata": {
        "colab": {
          "base_uri": "https://localhost:8080/"
        },
        "id": "Gp9rJxQKUYd6",
        "outputId": "03475e72-a29d-421e-e34b-0151bc3d02cd"
      },
      "outputs": [
        {
          "output_type": "execute_result",
          "data": {
            "text/plain": [
              "array([100., 100., 100., 100., 100., 100., 100., 100., 100., 100., 100.,\n",
              "       100., 100., 100., 100., 100., 100., 100., 100., 100., 100., 100.,\n",
              "       100., 100., 100., 100., 100., 100., 100., 100.])"
            ]
          },
          "metadata": {},
          "execution_count": 4
        }
      ],
      "source": [
        "#Create an array containing 30 1's and broadcast all the one's to the value 100\n",
        "array = np.ones(30)\n",
        "array[:] = 100\n",
        "array"
      ]
    },
    {
      "cell_type": "code",
      "execution_count": 5,
      "metadata": {
        "colab": {
          "base_uri": "https://localhost:8080/"
        },
        "id": "6SHw77hSUw71",
        "outputId": "60a470b6-0a20-472e-f047-c8a3d3b12de2"
      },
      "outputs": [
        {
          "output_type": "execute_result",
          "data": {
            "text/plain": [
              "array([10, 10, 10, 10, 10, 10, 10, 10, 10, 10, 10])"
            ]
          },
          "metadata": {},
          "execution_count": 5
        }
      ],
      "source": [
        "# Create an array of integers starting from 21 until 31 and name it as array1\n",
        "# Create an array of integers starting from 11 until 21 and name it array2\n",
        "# Calculate the difference between array1 and array\n",
        "array1 = np.arange(21,32)\n",
        "array2 = np.arange(11,22)\n",
        "array1 - array2"
      ]
    },
    {
      "cell_type": "code",
      "execution_count": 6,
      "metadata": {
        "colab": {
          "base_uri": "https://localhost:8080/"
        },
        "id": "pjaE1U6nP7ES",
        "outputId": "3f5cd598-bf3c-4e42-88f6-835464775fcc"
      },
      "outputs": [
        {
          "output_type": "execute_result",
          "data": {
            "text/plain": [
              "array([[ 2,  4,  6,  8, 10],\n",
              "       [22, 24, 26, 28, 30]])"
            ]
          },
          "metadata": {},
          "execution_count": 6
        }
      ],
      "source": [
        "# Create an array of all even integers from 2 to 10 and name it a1\n",
        "# Create an array of all even integers from 22 to 30 and name it a2\n",
        "\n",
        "# a) Use the 2 arrays as rows and create a matrix [ Hint - Use stack function from numpy ]\n",
        "\n",
        "a1 = np.arange(2, 11, 2)\n",
        "a2 = np.arange(22, 31, 2)\n",
        "np.stack((a1, a2))"
      ]
    },
    {
      "cell_type": "code",
      "execution_count": 7,
      "metadata": {
        "colab": {
          "base_uri": "https://localhost:8080/"
        },
        "id": "881nlTzcShlA",
        "outputId": "39d0d9b9-e039-43cd-fd8e-c0f16f91e9f8"
      },
      "outputs": [
        {
          "output_type": "execute_result",
          "data": {
            "text/plain": [
              "array([[ 2, 22],\n",
              "       [ 4, 24],\n",
              "       [ 6, 26],\n",
              "       [ 8, 28],\n",
              "       [10, 30]])"
            ]
          },
          "metadata": {},
          "execution_count": 7
        }
      ],
      "source": [
        "# b) Use the 2 arrays as columns and create a matrix [ Hint - Use column_stack function from numpy ]\n",
        "np.column_stack((a1,a2))"
      ]
    },
    {
      "cell_type": "code",
      "source": [
        "# Create a 5x6 matrix with values ranging from 0 to 29 and retrieve the value intersecting at 2nd row and 3rd column\n",
        "array_matrix = np.arange(30).reshape(5,6)\n",
        "array_matrix"
      ],
      "metadata": {
        "colab": {
          "base_uri": "https://localhost:8080/"
        },
        "id": "56TUgdkzVsrB",
        "outputId": "63d07809-bc27-4f1e-da5e-f9a457c55ef3"
      },
      "execution_count": 8,
      "outputs": [
        {
          "output_type": "execute_result",
          "data": {
            "text/plain": [
              "array([[ 0,  1,  2,  3,  4,  5],\n",
              "       [ 6,  7,  8,  9, 10, 11],\n",
              "       [12, 13, 14, 15, 16, 17],\n",
              "       [18, 19, 20, 21, 22, 23],\n",
              "       [24, 25, 26, 27, 28, 29]])"
            ]
          },
          "metadata": {},
          "execution_count": 8
        }
      ]
    },
    {
      "cell_type": "code",
      "source": [
        "array_matrix[1,2]"
      ],
      "metadata": {
        "colab": {
          "base_uri": "https://localhost:8080/"
        },
        "id": "S53a_UC8WVdX",
        "outputId": "98f4acad-44dd-4066-8115-bc9a7f5a1236"
      },
      "execution_count": 9,
      "outputs": [
        {
          "output_type": "execute_result",
          "data": {
            "text/plain": [
              "8"
            ]
          },
          "metadata": {},
          "execution_count": 9
        }
      ]
    },
    {
      "cell_type": "code",
      "source": [
        "# Create an identity matrix of shape 10x10 and replace the 0's with the value 12\n",
        "arr = np.eye(10)\n",
        "arr"
      ],
      "metadata": {
        "colab": {
          "base_uri": "https://localhost:8080/"
        },
        "id": "J7jDToP5WYVH",
        "outputId": "a03754c2-3e20-42b7-b942-8d804a426576"
      },
      "execution_count": 10,
      "outputs": [
        {
          "output_type": "execute_result",
          "data": {
            "text/plain": [
              "array([[1., 0., 0., 0., 0., 0., 0., 0., 0., 0.],\n",
              "       [0., 1., 0., 0., 0., 0., 0., 0., 0., 0.],\n",
              "       [0., 0., 1., 0., 0., 0., 0., 0., 0., 0.],\n",
              "       [0., 0., 0., 1., 0., 0., 0., 0., 0., 0.],\n",
              "       [0., 0., 0., 0., 1., 0., 0., 0., 0., 0.],\n",
              "       [0., 0., 0., 0., 0., 1., 0., 0., 0., 0.],\n",
              "       [0., 0., 0., 0., 0., 0., 1., 0., 0., 0.],\n",
              "       [0., 0., 0., 0., 0., 0., 0., 1., 0., 0.],\n",
              "       [0., 0., 0., 0., 0., 0., 0., 0., 1., 0.],\n",
              "       [0., 0., 0., 0., 0., 0., 0., 0., 0., 1.]])"
            ]
          },
          "metadata": {},
          "execution_count": 10
        }
      ]
    },
    {
      "cell_type": "code",
      "source": [
        "arr[arr == 0] = 12\n",
        "arr"
      ],
      "metadata": {
        "colab": {
          "base_uri": "https://localhost:8080/"
        },
        "id": "tKayF0jVWc9R",
        "outputId": "e7f9ca66-3e62-4cd1-9ab5-84354a580804"
      },
      "execution_count": 11,
      "outputs": [
        {
          "output_type": "execute_result",
          "data": {
            "text/plain": [
              "array([[ 1., 12., 12., 12., 12., 12., 12., 12., 12., 12.],\n",
              "       [12.,  1., 12., 12., 12., 12., 12., 12., 12., 12.],\n",
              "       [12., 12.,  1., 12., 12., 12., 12., 12., 12., 12.],\n",
              "       [12., 12., 12.,  1., 12., 12., 12., 12., 12., 12.],\n",
              "       [12., 12., 12., 12.,  1., 12., 12., 12., 12., 12.],\n",
              "       [12., 12., 12., 12., 12.,  1., 12., 12., 12., 12.],\n",
              "       [12., 12., 12., 12., 12., 12.,  1., 12., 12., 12.],\n",
              "       [12., 12., 12., 12., 12., 12., 12.,  1., 12., 12.],\n",
              "       [12., 12., 12., 12., 12., 12., 12., 12.,  1., 12.],\n",
              "       [12., 12., 12., 12., 12., 12., 12., 12., 12.,  1.]])"
            ]
          },
          "metadata": {},
          "execution_count": 11
        }
      ]
    },
    {
      "cell_type": "code",
      "source": [
        "# Use NumPy to generate a random set of 10 numbers between 0 and 1\n",
        "# Display a boolean array output where all values > 0.2 are True, rest are marked as False\n",
        "\n",
        "ar = np.random.rand(10)\n",
        "ar"
      ],
      "metadata": {
        "colab": {
          "base_uri": "https://localhost:8080/"
        },
        "id": "cpFS_2jjWmV3",
        "outputId": "28194c77-5114-43ac-981d-4cdc5e3a2963"
      },
      "execution_count": 12,
      "outputs": [
        {
          "output_type": "execute_result",
          "data": {
            "text/plain": [
              "array([0.33872094, 0.31538985, 0.31886723, 0.40658714, 0.61524999,\n",
              "       0.79953569, 0.27476683, 0.68779638, 0.81796035, 0.45638088])"
            ]
          },
          "metadata": {},
          "execution_count": 12
        }
      ]
    },
    {
      "cell_type": "code",
      "source": [
        "ar>0.2"
      ],
      "metadata": {
        "colab": {
          "base_uri": "https://localhost:8080/"
        },
        "id": "MN3_O8h6W4S9",
        "outputId": "12831c5b-037f-4596-f607-032583c3859a"
      },
      "execution_count": 13,
      "outputs": [
        {
          "output_type": "execute_result",
          "data": {
            "text/plain": [
              "array([ True,  True,  True,  True,  True,  True,  True,  True,  True,\n",
              "        True])"
            ]
          },
          "metadata": {},
          "execution_count": 13
        }
      ]
    },
    {
      "cell_type": "code",
      "source": [
        "# Use NumPy to generate an array matrix of 5x2 random numbers sampled from a standard normal distribution\n",
        "np.random.randn(5,2)"
      ],
      "metadata": {
        "colab": {
          "base_uri": "https://localhost:8080/"
        },
        "id": "sJK8cxoQXK6g",
        "outputId": "25370d8b-f5c9-4934-9580-dda92e230df7"
      },
      "execution_count": 14,
      "outputs": [
        {
          "output_type": "execute_result",
          "data": {
            "text/plain": [
              "array([[ 0.19109808,  0.97071324],\n",
              "       [-0.5321646 ,  2.39486436],\n",
              "       [ 0.11469303, -0.47213478],\n",
              "       [ 0.19635977,  2.02249791],\n",
              "       [-0.86904678, -1.09513076]])"
            ]
          },
          "metadata": {},
          "execution_count": 14
        }
      ]
    },
    {
      "cell_type": "code",
      "source": [
        "# Create an array of 30 linearly spaced points between 0 and 100:\n",
        "np.linspace(0,100,30)"
      ],
      "metadata": {
        "colab": {
          "base_uri": "https://localhost:8080/"
        },
        "id": "S4HKa22SXTKF",
        "outputId": "8822dae5-01a1-481b-8f15-c61195c78896"
      },
      "execution_count": 15,
      "outputs": [
        {
          "output_type": "execute_result",
          "data": {
            "text/plain": [
              "array([  0.        ,   3.44827586,   6.89655172,  10.34482759,\n",
              "        13.79310345,  17.24137931,  20.68965517,  24.13793103,\n",
              "        27.5862069 ,  31.03448276,  34.48275862,  37.93103448,\n",
              "        41.37931034,  44.82758621,  48.27586207,  51.72413793,\n",
              "        55.17241379,  58.62068966,  62.06896552,  65.51724138,\n",
              "        68.96551724,  72.4137931 ,  75.86206897,  79.31034483,\n",
              "        82.75862069,  86.20689655,  89.65517241,  93.10344828,\n",
              "        96.55172414, 100.        ])"
            ]
          },
          "metadata": {},
          "execution_count": 15
        }
      ]
    },
    {
      "cell_type": "markdown",
      "source": [
        "**Numpy Indexing and Selections**"
      ],
      "metadata": {
        "id": "9OYKFWwGXqzO"
      }
    },
    {
      "cell_type": "code",
      "source": [
        "simple_matrix = np.arange(1,101).reshape(10,10)\n",
        "simple_matrix"
      ],
      "metadata": {
        "colab": {
          "base_uri": "https://localhost:8080/"
        },
        "id": "whcGoSmMX1Up",
        "outputId": "73702061-bbd3-491f-f059-be9eca333214"
      },
      "execution_count": 16,
      "outputs": [
        {
          "output_type": "execute_result",
          "data": {
            "text/plain": [
              "array([[  1,   2,   3,   4,   5,   6,   7,   8,   9,  10],\n",
              "       [ 11,  12,  13,  14,  15,  16,  17,  18,  19,  20],\n",
              "       [ 21,  22,  23,  24,  25,  26,  27,  28,  29,  30],\n",
              "       [ 31,  32,  33,  34,  35,  36,  37,  38,  39,  40],\n",
              "       [ 41,  42,  43,  44,  45,  46,  47,  48,  49,  50],\n",
              "       [ 51,  52,  53,  54,  55,  56,  57,  58,  59,  60],\n",
              "       [ 61,  62,  63,  64,  65,  66,  67,  68,  69,  70],\n",
              "       [ 71,  72,  73,  74,  75,  76,  77,  78,  79,  80],\n",
              "       [ 81,  82,  83,  84,  85,  86,  87,  88,  89,  90],\n",
              "       [ 91,  92,  93,  94,  95,  96,  97,  98,  99, 100]])"
            ]
          },
          "metadata": {},
          "execution_count": 16
        }
      ]
    },
    {
      "cell_type": "code",
      "source": [
        "# a) Retrieve the last 2 rows and first 3 column values of the above matrix using index & selection technique\n",
        "simple_matrix[8:,0:3]"
      ],
      "metadata": {
        "colab": {
          "base_uri": "https://localhost:8080/"
        },
        "id": "EoVOOyPVX7lb",
        "outputId": "1ebd8249-2cbc-43b2-9cc5-75069015667a"
      },
      "execution_count": 17,
      "outputs": [
        {
          "output_type": "execute_result",
          "data": {
            "text/plain": [
              "array([[81, 82, 83],\n",
              "       [91, 92, 93]])"
            ]
          },
          "metadata": {},
          "execution_count": 17
        }
      ]
    },
    {
      "cell_type": "code",
      "source": [
        "# b) Retrieve the value 55 from the above matrix using index & selection technique\n",
        "simple_matrix[5,4]"
      ],
      "metadata": {
        "colab": {
          "base_uri": "https://localhost:8080/"
        },
        "id": "dhaZnKx3Ydtb",
        "outputId": "e94f0f76-e65b-428e-9758-5eec7289f66a"
      },
      "execution_count": 18,
      "outputs": [
        {
          "output_type": "execute_result",
          "data": {
            "text/plain": [
              "55"
            ]
          },
          "metadata": {},
          "execution_count": 18
        }
      ]
    },
    {
      "cell_type": "code",
      "source": [
        "# c) Retrieve the values from the 3rd column in the above matrix\n",
        "simple_matrix[:,2]"
      ],
      "metadata": {
        "colab": {
          "base_uri": "https://localhost:8080/"
        },
        "id": "n1uM7ds5Y7XF",
        "outputId": "84ace86d-2ef6-40b3-f483-445b808913e5"
      },
      "execution_count": 19,
      "outputs": [
        {
          "output_type": "execute_result",
          "data": {
            "text/plain": [
              "array([ 3, 13, 23, 33, 43, 53, 63, 73, 83, 93])"
            ]
          },
          "metadata": {},
          "execution_count": 19
        }
      ]
    },
    {
      "cell_type": "code",
      "source": [
        "# d) Retrieve the values from the 4th row in the above matrix\n",
        "simple_matrix[3,:]"
      ],
      "metadata": {
        "colab": {
          "base_uri": "https://localhost:8080/"
        },
        "id": "Ua_ghdu3ZPUp",
        "outputId": "1d8b008e-69d6-4a90-9e72-adc1091b6f88"
      },
      "execution_count": 20,
      "outputs": [
        {
          "output_type": "execute_result",
          "data": {
            "text/plain": [
              "array([31, 32, 33, 34, 35, 36, 37, 38, 39, 40])"
            ]
          },
          "metadata": {},
          "execution_count": 20
        }
      ]
    },
    {
      "cell_type": "code",
      "source": [
        "# e) Retrieve values from the 2nd & 4th rows in the above matrix\n",
        "simple_matrix[(1,3),:]"
      ],
      "metadata": {
        "colab": {
          "base_uri": "https://localhost:8080/"
        },
        "id": "6-36nXdVZVgt",
        "outputId": "1ee090f5-468b-4a5c-8b22-9669483c4404"
      },
      "execution_count": 21,
      "outputs": [
        {
          "output_type": "execute_result",
          "data": {
            "text/plain": [
              "array([[11, 12, 13, 14, 15, 16, 17, 18, 19, 20],\n",
              "       [31, 32, 33, 34, 35, 36, 37, 38, 39, 40]])"
            ]
          },
          "metadata": {},
          "execution_count": 21
        }
      ]
    },
    {
      "cell_type": "markdown",
      "source": [
        "**Calculate the following values for the given matrix**"
      ],
      "metadata": {
        "id": "VuDzs2DCaKtu"
      }
    },
    {
      "cell_type": "code",
      "source": [
        "# a) Calculate sum of all the values in the matrix\n",
        "simple_matrix.sum()"
      ],
      "metadata": {
        "colab": {
          "base_uri": "https://localhost:8080/"
        },
        "id": "Zcb2lNZ9aG6K",
        "outputId": "66977903-36a6-406b-bf76-fbaa010bdc04"
      },
      "execution_count": 22,
      "outputs": [
        {
          "output_type": "execute_result",
          "data": {
            "text/plain": [
              "5050"
            ]
          },
          "metadata": {},
          "execution_count": 22
        }
      ]
    },
    {
      "cell_type": "code",
      "source": [
        "# b) Calculate standard deviation of all the values in the matrix\n",
        "simple_matrix.std()"
      ],
      "metadata": {
        "colab": {
          "base_uri": "https://localhost:8080/"
        },
        "id": "1CtdBqtkaYwa",
        "outputId": "959cd32c-fb27-441e-fc00-18b82c6ee1b3"
      },
      "execution_count": 23,
      "outputs": [
        {
          "output_type": "execute_result",
          "data": {
            "text/plain": [
              "28.86607004772212"
            ]
          },
          "metadata": {},
          "execution_count": 23
        }
      ]
    },
    {
      "cell_type": "code",
      "source": [
        "# c) Calculate the variance of all values in the matrix\n",
        "simple_matrix.var()"
      ],
      "metadata": {
        "colab": {
          "base_uri": "https://localhost:8080/"
        },
        "id": "nQjjOqiEag7l",
        "outputId": "d2e9c14c-f799-4240-9bda-5a685ba1b1c5"
      },
      "execution_count": 24,
      "outputs": [
        {
          "output_type": "execute_result",
          "data": {
            "text/plain": [
              "833.25"
            ]
          },
          "metadata": {},
          "execution_count": 24
        }
      ]
    },
    {
      "cell_type": "code",
      "source": [
        "# d) Calculate the mean of all values in the matrix\n",
        "simple_matrix.mean()"
      ],
      "metadata": {
        "colab": {
          "base_uri": "https://localhost:8080/"
        },
        "id": "J2IP4r6_aiGt",
        "outputId": "827c4329-5ed4-4f92-91ca-b61db2926a26"
      },
      "execution_count": 25,
      "outputs": [
        {
          "output_type": "execute_result",
          "data": {
            "text/plain": [
              "50.5"
            ]
          },
          "metadata": {},
          "execution_count": 25
        }
      ]
    },
    {
      "cell_type": "code",
      "source": [
        "# e) Retrieve the largest number from the matrix\n",
        "simple_matrix.max()"
      ],
      "metadata": {
        "colab": {
          "base_uri": "https://localhost:8080/"
        },
        "id": "07Wa2unAaka4",
        "outputId": "1b6419a5-31b0-4b1e-866b-373089a4ca56"
      },
      "execution_count": 26,
      "outputs": [
        {
          "output_type": "execute_result",
          "data": {
            "text/plain": [
              "100"
            ]
          },
          "metadata": {},
          "execution_count": 26
        }
      ]
    },
    {
      "cell_type": "code",
      "source": [
        "# f) Retrieve the smallest number from the matrix\n",
        "simple_matrix.min()"
      ],
      "metadata": {
        "colab": {
          "base_uri": "https://localhost:8080/"
        },
        "id": "phPa6uL7ao2k",
        "outputId": "aad99770-de08-4672-a9aa-ce65c0bfa679"
      },
      "execution_count": 27,
      "outputs": [
        {
          "output_type": "execute_result",
          "data": {
            "text/plain": [
              "1"
            ]
          },
          "metadata": {},
          "execution_count": 27
        }
      ]
    }
  ],
  "metadata": {
    "colab": {
      "provenance": []
    },
    "kernelspec": {
      "display_name": "Python 3",
      "name": "python3"
    },
    "language_info": {
      "name": "python"
    }
  },
  "nbformat": 4,
  "nbformat_minor": 0
}