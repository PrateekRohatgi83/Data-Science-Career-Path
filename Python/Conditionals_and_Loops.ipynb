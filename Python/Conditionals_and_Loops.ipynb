{
  "nbformat": 4,
  "nbformat_minor": 0,
  "metadata": {
    "colab": {
      "provenance": []
    },
    "kernelspec": {
      "name": "python3",
      "display_name": "Python 3"
    },
    "language_info": {
      "name": "python"
    }
  },
  "cells": [
    {
      "cell_type": "markdown",
      "source": [
        "# **CONDITIONAL STATEMENTS**"
      ],
      "metadata": {
        "id": "8JfHeBPcEW10"
      }
    },
    {
      "cell_type": "code",
      "execution_count": 1,
      "metadata": {
        "id": "8OK1nli9Zekw"
      },
      "outputs": [],
      "source": [
        "a=20\n",
        "b=10"
      ]
    },
    {
      "cell_type": "code",
      "source": [
        "#if statement\n",
        "if b>a:\n",
        "    print(\"B is greater than A\")\n",
        "if a>b:\n",
        "    print(\"A is greater than B\")"
      ],
      "metadata": {
        "colab": {
          "base_uri": "https://localhost:8080/"
        },
        "id": "WkzMg7YE1zJS",
        "outputId": "aa0be4b7-b114-47b6-ae09-4cb2f5ab6c0f"
      },
      "execution_count": 2,
      "outputs": [
        {
          "output_type": "stream",
          "name": "stdout",
          "text": [
            "A is greater than B\n"
          ]
        }
      ]
    },
    {
      "cell_type": "code",
      "source": [
        "#else statement\n",
        "if a>b:\n",
        "    print(\"A is greater than B\")\n",
        "else:\n",
        "    print(\"B is greater than A\")"
      ],
      "metadata": {
        "colab": {
          "base_uri": "https://localhost:8080/"
        },
        "id": "ZviT1jJ-19WD",
        "outputId": "4155e5e5-f9db-4565-fcd8-ab8f2f412927"
      },
      "execution_count": 3,
      "outputs": [
        {
          "output_type": "stream",
          "name": "stdout",
          "text": [
            "A is greater than B\n"
          ]
        }
      ]
    },
    {
      "cell_type": "code",
      "source": [
        "#elif statement\n",
        "a=10\n",
        "b=20\n",
        "c=30\n",
        "if (a>b) & (a>c):\n",
        "    print(\"A is the greatest\")\n",
        "elif (b>a) & (b>c):\n",
        "    print(\"B is the greatest\")\n",
        "else:\n",
        "    print(\"C is the greatest\")"
      ],
      "metadata": {
        "colab": {
          "base_uri": "https://localhost:8080/"
        },
        "id": "76XFa0_82K-e",
        "outputId": "f7cf9761-9a3e-4cc3-9a77-98cd531f51df"
      },
      "execution_count": 4,
      "outputs": [
        {
          "output_type": "stream",
          "name": "stdout",
          "text": [
            "C is the greatest\n"
          ]
        }
      ]
    },
    {
      "cell_type": "code",
      "source": [
        "#Tuple with if\n",
        "tup1=(\"a\",\"b\",\"c\")\n",
        "if \"a\" in tup1:\n",
        "    print(\"a is present in tup1\")"
      ],
      "metadata": {
        "colab": {
          "base_uri": "https://localhost:8080/"
        },
        "id": "54-S_woK2V6e",
        "outputId": "2a545124-be84-411d-de2e-a62b12bd6728"
      },
      "execution_count": 5,
      "outputs": [
        {
          "output_type": "stream",
          "name": "stdout",
          "text": [
            "a is present in tup1\n"
          ]
        }
      ]
    },
    {
      "cell_type": "code",
      "source": [
        "#List with if\n",
        "l1=[\"a\",\"b\",\"c\"]\n",
        "if l1[0]==\"a\":\n",
        "    l1[0]=100\n",
        "print(l1)"
      ],
      "metadata": {
        "colab": {
          "base_uri": "https://localhost:8080/"
        },
        "id": "1qC-twSbEvZl",
        "outputId": "3e7078f1-8ce5-4785-ff42-1f85b8294066"
      },
      "execution_count": 6,
      "outputs": [
        {
          "output_type": "stream",
          "name": "stdout",
          "text": [
            "[100, 'b', 'c']\n"
          ]
        }
      ]
    },
    {
      "cell_type": "code",
      "source": [
        "#Dictionary with if and else\n",
        "d1={\"k1\":10,\"k2\":20,\"k3\":30}\n",
        "if d1[\"k1\"]==20:\n",
        "    d1[\"k1\"]=d1[\"k1\"]+100\n",
        "else:\n",
        "  d1[\"k1\"] = d1[\"k1\"] + 200\n",
        "print(d1)"
      ],
      "metadata": {
        "colab": {
          "base_uri": "https://localhost:8080/"
        },
        "id": "4mM-I_ekE_EH",
        "outputId": "1f34126f-c5f7-48bb-e973-e85612fc0b0e"
      },
      "execution_count": 7,
      "outputs": [
        {
          "output_type": "stream",
          "name": "stdout",
          "text": [
            "{'k1': 210, 'k2': 20, 'k3': 30}\n"
          ]
        }
      ]
    },
    {
      "cell_type": "markdown",
      "source": [
        "# **LOOPS**"
      ],
      "metadata": {
        "id": "RP-slJa_FjCG"
      }
    },
    {
      "cell_type": "code",
      "source": [
        "#simple for loop\n",
        "fruits = [\"apple\",\"mango\",\"banana\"]\n",
        "for i in fruits:\n",
        "    print(i)"
      ],
      "metadata": {
        "colab": {
          "base_uri": "https://localhost:8080/"
        },
        "id": "p3elLKEmFtO2",
        "outputId": "dd5254d2-c54c-4de6-c2a9-d16064535ff5"
      },
      "execution_count": 8,
      "outputs": [
        {
          "output_type": "stream",
          "name": "stdout",
          "text": [
            "apple\n",
            "mango\n",
            "banana\n"
          ]
        }
      ]
    },
    {
      "cell_type": "code",
      "source": [
        "#nested for loop\n",
        "color=[\"blue\",\"green\",\"yellow\"]\n",
        "item=[\"book\",\"ball\",\"chair\"]\n",
        "for i in color:\n",
        "    for j in item:\n",
        "        print(i,j)"
      ],
      "metadata": {
        "colab": {
          "base_uri": "https://localhost:8080/"
        },
        "id": "BFMEuzSwF7Qz",
        "outputId": "f59707af-b4b6-4706-d8d0-3b17a81a5909"
      },
      "execution_count": 9,
      "outputs": [
        {
          "output_type": "stream",
          "name": "stdout",
          "text": [
            "blue book\n",
            "blue ball\n",
            "blue chair\n",
            "green book\n",
            "green ball\n",
            "green chair\n",
            "yellow book\n",
            "yellow ball\n",
            "yellow chair\n"
          ]
        }
      ]
    },
    {
      "cell_type": "code",
      "source": [
        "#while loop\n",
        "#printing numbers from 11 to 20\n",
        "i=11\n",
        "while i<=20:\n",
        "    print(i)\n",
        "    i=i+1"
      ],
      "metadata": {
        "colab": {
          "base_uri": "https://localhost:8080/"
        },
        "id": "229yTGn6HtKA",
        "outputId": "934871a0-d9a6-4cca-9db4-41a3cd7f0906"
      },
      "execution_count": 10,
      "outputs": [
        {
          "output_type": "stream",
          "name": "stdout",
          "text": [
            "11\n",
            "12\n",
            "13\n",
            "14\n",
            "15\n",
            "16\n",
            "17\n",
            "18\n",
            "19\n",
            "20\n"
          ]
        }
      ]
    },
    {
      "cell_type": "code",
      "source": [
        "#Printing multiples of 19 from 209 with while loop\n",
        "i=11\n",
        "n=19\n",
        "while i<=20:\n",
        "    print(n,\" * \", i, \" = \",n*i)\n",
        "    i=i+1"
      ],
      "metadata": {
        "colab": {
          "base_uri": "https://localhost:8080/"
        },
        "id": "NdmhsMjRIAI7",
        "outputId": "b5dac91f-8d01-4429-c8fa-77102d4ffc57"
      },
      "execution_count": 11,
      "outputs": [
        {
          "output_type": "stream",
          "name": "stdout",
          "text": [
            "19  *  11  =  209\n",
            "19  *  12  =  228\n",
            "19  *  13  =  247\n",
            "19  *  14  =  266\n",
            "19  *  15  =  285\n",
            "19  *  16  =  304\n",
            "19  *  17  =  323\n",
            "19  *  18  =  342\n",
            "19  *  19  =  361\n",
            "19  *  20  =  380\n"
          ]
        }
      ]
    },
    {
      "cell_type": "code",
      "source": [
        "#While with list\n",
        "l1=[1,2,3,4,5]\n",
        "i=0\n",
        "while i<len(l1):\n",
        "    l1[i]=l1[i]+100\n",
        "    i=i+1\n",
        "print(l1)"
      ],
      "metadata": {
        "colab": {
          "base_uri": "https://localhost:8080/"
        },
        "id": "cz3o7RqhIjUf",
        "outputId": "2819a515-a19a-492b-f61a-71057b44cc65"
      },
      "execution_count": 12,
      "outputs": [
        {
          "output_type": "stream",
          "name": "stdout",
          "text": [
            "[101, 102, 103, 104, 105]\n"
          ]
        }
      ]
    }
  ]
}