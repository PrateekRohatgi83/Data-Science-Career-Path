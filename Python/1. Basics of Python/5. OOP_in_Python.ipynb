{
  "nbformat": 4,
  "nbformat_minor": 0,
  "metadata": {
    "colab": {
      "provenance": []
    },
    "kernelspec": {
      "name": "python3",
      "display_name": "Python 3"
    },
    "language_info": {
      "name": "python"
    }
  },
  "cells": [
    {
      "cell_type": "code",
      "execution_count": 1,
      "metadata": {
        "id": "5zstXDFNbIEr"
      },
      "outputs": [],
      "source": [
        "class Phone:\n",
        "  def make_call(self):\n",
        "    print(\"Calling\")\n",
        "  def play_game(self):\n",
        "    print(\"Playing\")"
      ]
    },
    {
      "cell_type": "code",
      "source": [
        "p1 = Phone()"
      ],
      "metadata": {
        "id": "lt4_hdAnbluc"
      },
      "execution_count": 2,
      "outputs": []
    },
    {
      "cell_type": "code",
      "source": [
        "p1.make_call()"
      ],
      "metadata": {
        "colab": {
          "base_uri": "https://localhost:8080/"
        },
        "id": "OiqmWwTJbrSV",
        "outputId": "6f34ffc2-5498-4eac-a8af-bbb6ecc84790"
      },
      "execution_count": 3,
      "outputs": [
        {
          "output_type": "stream",
          "name": "stdout",
          "text": [
            "Calling\n"
          ]
        }
      ]
    },
    {
      "cell_type": "code",
      "source": [
        "p1.play_game()"
      ],
      "metadata": {
        "colab": {
          "base_uri": "https://localhost:8080/"
        },
        "id": "FcUp8GTPbxVD",
        "outputId": "699b5eb8-f949-4b4e-ff4b-f82ccae0df31"
      },
      "execution_count": 4,
      "outputs": [
        {
          "output_type": "stream",
          "name": "stdout",
          "text": [
            "Playing\n"
          ]
        }
      ]
    },
    {
      "cell_type": "code",
      "source": [
        "#Adding parameters to a class method\n",
        "class Phone():\n",
        "  def set_color(self, color):\n",
        "    self.color = color\n",
        "  def set_cost(self, cost):\n",
        "    self.cost = cost\n",
        "  def show_color(self):\n",
        "    return self.color\n",
        "  def show_cost(self):\n",
        "    return self.cost"
      ],
      "metadata": {
        "id": "I8l9EYYdb-Eh"
      },
      "execution_count": 5,
      "outputs": []
    },
    {
      "cell_type": "code",
      "source": [
        "p2 = Phone()"
      ],
      "metadata": {
        "id": "F2e7xvf2c6yl"
      },
      "execution_count": 6,
      "outputs": []
    },
    {
      "cell_type": "code",
      "source": [
        "p2.set_color('red')\n",
        "p2.set_cost(10000)"
      ],
      "metadata": {
        "id": "izu0j0Fmc64w"
      },
      "execution_count": 7,
      "outputs": []
    },
    {
      "cell_type": "code",
      "source": [
        "p2.show_color()"
      ],
      "metadata": {
        "colab": {
          "base_uri": "https://localhost:8080/",
          "height": 35
        },
        "id": "ftQYdnN7dhxQ",
        "outputId": "009683bc-eda9-45e5-d0f0-8eb88df1ceb4"
      },
      "execution_count": 8,
      "outputs": [
        {
          "output_type": "execute_result",
          "data": {
            "text/plain": [
              "'red'"
            ],
            "application/vnd.google.colaboratory.intrinsic+json": {
              "type": "string"
            }
          },
          "metadata": {},
          "execution_count": 8
        }
      ]
    },
    {
      "cell_type": "code",
      "source": [
        "p2.show_cost()"
      ],
      "metadata": {
        "colab": {
          "base_uri": "https://localhost:8080/"
        },
        "id": "mQ6kpD_4dmhd",
        "outputId": "f5823d55-1aec-4946-c535-cdb5acd58ade"
      },
      "execution_count": 9,
      "outputs": [
        {
          "output_type": "execute_result",
          "data": {
            "text/plain": [
              "10000"
            ]
          },
          "metadata": {},
          "execution_count": 9
        }
      ]
    },
    {
      "cell_type": "code",
      "source": [
        "class Employee:\n",
        "  def __init__(self, name, age, salary, gender):\n",
        "    self.name = name\n",
        "    self.age = age\n",
        "    self.salary = salary\n",
        "    self.gender = gender\n",
        "  def show_details(self):\n",
        "    print(\"The name of the employee is \", self.name)\n",
        "    print(\"The age of the employee is \", self.age)\n",
        "    print(\"The salary of the employee is \", self.salary)\n",
        "    print(\"The gender of the employee is \", self.gender)"
      ],
      "metadata": {
        "id": "wTCQA19udumn"
      },
      "execution_count": 10,
      "outputs": []
    },
    {
      "cell_type": "code",
      "source": [
        "e1 = Employee('Raman', 28, 30000, 'Male')"
      ],
      "metadata": {
        "id": "IZmQHcuZlpNV"
      },
      "execution_count": 11,
      "outputs": []
    },
    {
      "cell_type": "code",
      "source": [
        "e1.show_details()"
      ],
      "metadata": {
        "colab": {
          "base_uri": "https://localhost:8080/"
        },
        "id": "-BOOxRdal29l",
        "outputId": "db354c9f-2506-4c00-a192-6b888a5ac8d7"
      },
      "execution_count": 12,
      "outputs": [
        {
          "output_type": "stream",
          "name": "stdout",
          "text": [
            "The name of the employee is  Raman\n",
            "The age of the employee is  28\n",
            "The salary of the employee is  30000\n",
            "The gender of the employee is  Male\n"
          ]
        }
      ]
    },
    {
      "cell_type": "code",
      "source": [
        "#Inheritance\n",
        "class Vehicle:\n",
        "  def __init__(self, mileage, cost):\n",
        "    self.mileage = mileage\n",
        "    self.cost = cost\n",
        "\n",
        "  def show_details(self):\n",
        "    print(\"I am a vehicle\")\n",
        "    print(\"The mileage is \", self.mileage)\n",
        "    print(\"The cost is \", self.cost)"
      ],
      "metadata": {
        "id": "2zf7jmbmmCGC"
      },
      "execution_count": 13,
      "outputs": []
    },
    {
      "cell_type": "code",
      "source": [
        "v1 = Vehicle(300, 600000)"
      ],
      "metadata": {
        "id": "KyeSaWYMpWUG"
      },
      "execution_count": 14,
      "outputs": []
    },
    {
      "cell_type": "code",
      "source": [
        "v1.show_details()"
      ],
      "metadata": {
        "colab": {
          "base_uri": "https://localhost:8080/"
        },
        "id": "QiIanLQ8pgDT",
        "outputId": "e6a4c702-68c5-4f4a-fd06-c85efcb64876"
      },
      "execution_count": 15,
      "outputs": [
        {
          "output_type": "stream",
          "name": "stdout",
          "text": [
            "I am a vehicle\n",
            "The mileage is  300\n",
            "The cost is  600000\n"
          ]
        }
      ]
    },
    {
      "cell_type": "code",
      "source": [
        "class Car(Vehicle):\n",
        "  def show_car_details(self):\n",
        "    print(\"I am a car\")"
      ],
      "metadata": {
        "id": "WUBb7qLhqNZM"
      },
      "execution_count": 16,
      "outputs": []
    },
    {
      "cell_type": "code",
      "source": [
        "c1 = Car(100, 60000)"
      ],
      "metadata": {
        "id": "WgzAoP4Eq7li"
      },
      "execution_count": 17,
      "outputs": []
    },
    {
      "cell_type": "code",
      "source": [
        "c1.show_details()"
      ],
      "metadata": {
        "colab": {
          "base_uri": "https://localhost:8080/"
        },
        "id": "QYWcjdd2rFcr",
        "outputId": "8e682417-cb56-4c30-8ea4-180082f89055"
      },
      "execution_count": 18,
      "outputs": [
        {
          "output_type": "stream",
          "name": "stdout",
          "text": [
            "I am a vehicle\n",
            "The mileage is  100\n",
            "The cost is  60000\n"
          ]
        }
      ]
    },
    {
      "cell_type": "code",
      "source": [
        "c1.show_car_details()"
      ],
      "metadata": {
        "colab": {
          "base_uri": "https://localhost:8080/"
        },
        "id": "_AXBGI6trMnL",
        "outputId": "c789552c-1e77-4e5c-b764-39e4d6ef1e06"
      },
      "execution_count": 19,
      "outputs": [
        {
          "output_type": "stream",
          "name": "stdout",
          "text": [
            "I am a car\n"
          ]
        }
      ]
    },
    {
      "cell_type": "code",
      "source": [
        "#Over-riding init method\n",
        "#Inheritance\n",
        "class Vehicle:\n",
        "  def __init__(self, mileage, cost):\n",
        "    self.mileage = mileage\n",
        "    self.cost = cost\n",
        "\n",
        "  def show_details(self):\n",
        "    print(\"I am a vehicle\")\n",
        "    print(\"The mileage is \", self.mileage)\n",
        "    print(\"The cost is \", self.cost)"
      ],
      "metadata": {
        "id": "FQa0a9mzrZ1V"
      },
      "execution_count": 20,
      "outputs": []
    },
    {
      "cell_type": "code",
      "source": [
        "class Car(Vehicle):\n",
        "  def __init__(self, mileage, cost, tyres, hp):\n",
        "    super().__init__(mileage, cost)\n",
        "    self.tyres = tyres\n",
        "    self.hp = hp\n",
        "\n",
        "  def show_car_details(self):\n",
        "    print(\"I am a car\")\n",
        "    print(\"Number of tyres are \", self.tyres)\n",
        "    print(\"The horse power is \", self.hp)"
      ],
      "metadata": {
        "id": "sawx4OrYsohy"
      },
      "execution_count": 21,
      "outputs": []
    },
    {
      "cell_type": "code",
      "source": [
        "c1 = Car(500, 50000, 6, 200)"
      ],
      "metadata": {
        "id": "q9hr-21fuB9q"
      },
      "execution_count": 22,
      "outputs": []
    },
    {
      "cell_type": "code",
      "source": [
        "c1.show_details()"
      ],
      "metadata": {
        "colab": {
          "base_uri": "https://localhost:8080/"
        },
        "id": "y2wdEBVnuS_n",
        "outputId": "4c320c15-927e-4974-ee69-aabb27dbf4de"
      },
      "execution_count": 23,
      "outputs": [
        {
          "output_type": "stream",
          "name": "stdout",
          "text": [
            "I am a vehicle\n",
            "The mileage is  500\n",
            "The cost is  50000\n"
          ]
        }
      ]
    },
    {
      "cell_type": "code",
      "source": [
        "c1.show_car_details()"
      ],
      "metadata": {
        "colab": {
          "base_uri": "https://localhost:8080/"
        },
        "id": "hLMS8dFSucvq",
        "outputId": "f4540d1e-9292-47d0-8924-d02d68f6a604"
      },
      "execution_count": 24,
      "outputs": [
        {
          "output_type": "stream",
          "name": "stdout",
          "text": [
            "I am a car\n",
            "Number of tyres are  6\n",
            "The horse power is  200\n"
          ]
        }
      ]
    },
    {
      "cell_type": "code",
      "source": [
        "#Multiple Inheritance\n",
        "class Parent1:\n",
        "  def assign_str1(self, str1):\n",
        "    self.str1 = str1\n",
        "\n",
        "  def show_str1(self):\n",
        "    print(self.str1)"
      ],
      "metadata": {
        "id": "ZYuf4qccutpc"
      },
      "execution_count": 25,
      "outputs": []
    },
    {
      "cell_type": "code",
      "source": [
        "class Parent2:\n",
        "  def assign_str2(self, str2):\n",
        "    self.str2 = str2\n",
        "\n",
        "  def show_str2(self):\n",
        "    print(self.str2)"
      ],
      "metadata": {
        "id": "wxrb7f-nv62V"
      },
      "execution_count": 26,
      "outputs": []
    },
    {
      "cell_type": "code",
      "source": [
        "class Child(Parent1, Parent2):\n",
        "  def assign_str3(self, str3):\n",
        "    self.str3 = str3\n",
        "\n",
        "  def show_str3(self):\n",
        "    print(self.str3)"
      ],
      "metadata": {
        "id": "SpWaPssLwf5M"
      },
      "execution_count": 27,
      "outputs": []
    },
    {
      "cell_type": "code",
      "source": [
        "c1 = Child()"
      ],
      "metadata": {
        "id": "tMet4PN4wrNU"
      },
      "execution_count": 28,
      "outputs": []
    },
    {
      "cell_type": "code",
      "source": [
        "c1.assign_str1(\"Hello\")\n",
        "c1.assign_str2(\"Hello Hello\")\n",
        "c1.assign_str3(\"Hello World\")"
      ],
      "metadata": {
        "id": "3v2iZ050xZki"
      },
      "execution_count": 29,
      "outputs": []
    },
    {
      "cell_type": "code",
      "source": [
        "c1.show_str1()"
      ],
      "metadata": {
        "colab": {
          "base_uri": "https://localhost:8080/"
        },
        "id": "10t_iaJGxp83",
        "outputId": "afdddda5-4b48-4f4a-d663-efad4a222cb8"
      },
      "execution_count": 30,
      "outputs": [
        {
          "output_type": "stream",
          "name": "stdout",
          "text": [
            "Hello\n"
          ]
        }
      ]
    },
    {
      "cell_type": "code",
      "source": [
        "c1.show_str2()"
      ],
      "metadata": {
        "colab": {
          "base_uri": "https://localhost:8080/"
        },
        "id": "logICriAx2IZ",
        "outputId": "6fd56226-f97b-47e7-e0eb-c3763aa3e520"
      },
      "execution_count": 31,
      "outputs": [
        {
          "output_type": "stream",
          "name": "stdout",
          "text": [
            "Hello Hello\n"
          ]
        }
      ]
    },
    {
      "cell_type": "code",
      "source": [
        "c1.show_str3()"
      ],
      "metadata": {
        "colab": {
          "base_uri": "https://localhost:8080/"
        },
        "id": "H9Up4BMZyiZn",
        "outputId": "ccea0152-5ed7-42ed-e73f-5ebbabffb833"
      },
      "execution_count": 32,
      "outputs": [
        {
          "output_type": "stream",
          "name": "stdout",
          "text": [
            "Hello World\n"
          ]
        }
      ]
    },
    {
      "cell_type": "code",
      "source": [
        "#Multi-level Inheritance\n",
        "class Parent:\n",
        "  def assign_name(self, name):\n",
        "    self.name = name\n",
        "\n",
        "  def show_name(self):\n",
        "    return self.name"
      ],
      "metadata": {
        "id": "iyuvDzCj18VJ"
      },
      "execution_count": 33,
      "outputs": []
    },
    {
      "cell_type": "code",
      "source": [
        "class Child(Parent):\n",
        "  def assign_age(self, age):\n",
        "    self.age = age\n",
        "\n",
        "  def show_age(self):\n",
        "    return self.age"
      ],
      "metadata": {
        "id": "ShyJ_dvK1_Su"
      },
      "execution_count": 34,
      "outputs": []
    },
    {
      "cell_type": "code",
      "source": [
        "class GrandChild(Child):\n",
        "  def assign_gender(self, gender):\n",
        "    self.gender = gender\n",
        "\n",
        "  def show_gender(self):\n",
        "    return self.gender"
      ],
      "metadata": {
        "id": "-QpJXDsX3qSF"
      },
      "execution_count": 35,
      "outputs": []
    },
    {
      "cell_type": "code",
      "source": [
        "g1 = GrandChild()"
      ],
      "metadata": {
        "id": "OEqg19J438ZB"
      },
      "execution_count": 36,
      "outputs": []
    },
    {
      "cell_type": "code",
      "source": [
        "g1.assign_name(\"Kavita\")\n",
        "g1.assign_age(12)\n",
        "g1.assign_gender(\"Female\")"
      ],
      "metadata": {
        "id": "wkKwNhFN4HS6"
      },
      "execution_count": 37,
      "outputs": []
    },
    {
      "cell_type": "code",
      "source": [
        "g1.show_name()"
      ],
      "metadata": {
        "colab": {
          "base_uri": "https://localhost:8080/",
          "height": 35
        },
        "id": "igiDFtkD4tob",
        "outputId": "d6adeb8f-937e-48a6-8c36-21d2dee332cc"
      },
      "execution_count": 38,
      "outputs": [
        {
          "output_type": "execute_result",
          "data": {
            "text/plain": [
              "'Kavita'"
            ],
            "application/vnd.google.colaboratory.intrinsic+json": {
              "type": "string"
            }
          },
          "metadata": {},
          "execution_count": 38
        }
      ]
    },
    {
      "cell_type": "code",
      "source": [
        "g1.show_age()"
      ],
      "metadata": {
        "colab": {
          "base_uri": "https://localhost:8080/"
        },
        "id": "EsEDb-EF44pZ",
        "outputId": "f27b85c3-da15-4da6-fb4c-7c665dc587dd"
      },
      "execution_count": 39,
      "outputs": [
        {
          "output_type": "execute_result",
          "data": {
            "text/plain": [
              "12"
            ]
          },
          "metadata": {},
          "execution_count": 39
        }
      ]
    },
    {
      "cell_type": "code",
      "source": [
        "g1.show_gender()"
      ],
      "metadata": {
        "colab": {
          "base_uri": "https://localhost:8080/",
          "height": 35
        },
        "id": "HS5PR9qI466M",
        "outputId": "a1fba617-3412-4ea6-e239-0c9e184f3281"
      },
      "execution_count": 40,
      "outputs": [
        {
          "output_type": "execute_result",
          "data": {
            "text/plain": [
              "'Female'"
            ],
            "application/vnd.google.colaboratory.intrinsic+json": {
              "type": "string"
            }
          },
          "metadata": {},
          "execution_count": 40
        }
      ]
    }
  ]
}