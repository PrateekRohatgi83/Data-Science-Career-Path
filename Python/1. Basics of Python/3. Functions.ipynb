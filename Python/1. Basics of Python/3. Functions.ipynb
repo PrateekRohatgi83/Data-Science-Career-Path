{
  "nbformat": 4,
  "nbformat_minor": 0,
  "metadata": {
    "colab": {
      "provenance": []
    },
    "kernelspec": {
      "name": "python3",
      "display_name": "Python 3"
    },
    "language_info": {
      "name": "python"
    }
  },
  "cells": [
    {
      "cell_type": "code",
      "execution_count": 1,
      "metadata": {
        "id": "raDMpa9yKKoK"
      },
      "outputs": [],
      "source": [
        "def hello():\n",
        "    print(\"Hello World\")"
      ]
    },
    {
      "cell_type": "code",
      "source": [
        "hello()"
      ],
      "metadata": {
        "colab": {
          "base_uri": "https://localhost:8080/"
        },
        "id": "In5lTmaeLZ-2",
        "outputId": "5cd69649-32f3-4230-c164-9f2cfa5decf4"
      },
      "execution_count": 2,
      "outputs": [
        {
          "output_type": "stream",
          "name": "stdout",
          "text": [
            "Hello World\n"
          ]
        }
      ]
    },
    {
      "cell_type": "code",
      "source": [
        "#Function with parameter\n",
        "def add(x):\n",
        "    return x + 10"
      ],
      "metadata": {
        "id": "VtNPj_2ELeR2"
      },
      "execution_count": 3,
      "outputs": []
    },
    {
      "cell_type": "code",
      "source": [
        "add(10)"
      ],
      "metadata": {
        "colab": {
          "base_uri": "https://localhost:8080/"
        },
        "id": "nxiGRL2XLq8p",
        "outputId": "364cd329-429f-4d74-d055-678d74211806"
      },
      "execution_count": 4,
      "outputs": [
        {
          "output_type": "execute_result",
          "data": {
            "text/plain": [
              "20"
            ]
          },
          "metadata": {},
          "execution_count": 4
        }
      ]
    },
    {
      "cell_type": "code",
      "source": [
        "def even_odd(x):\n",
        "    if x % 2 == 0:\n",
        "        print(x, \" is even\")\n",
        "    else:\n",
        "        print(x, \" is odd\")"
      ],
      "metadata": {
        "id": "zjWpycVwLuKA"
      },
      "execution_count": 6,
      "outputs": []
    },
    {
      "cell_type": "code",
      "source": [
        "even_odd(6)"
      ],
      "metadata": {
        "colab": {
          "base_uri": "https://localhost:8080/"
        },
        "id": "Y_GIRrNJLuSJ",
        "outputId": "749f5e06-0036-4eb6-ff6c-4a7212f7269f"
      },
      "execution_count": 7,
      "outputs": [
        {
          "output_type": "stream",
          "name": "stdout",
          "text": [
            "6  is even\n"
          ]
        }
      ]
    },
    {
      "cell_type": "code",
      "source": [
        "#lambda functions\n",
        "g = lambda x: x*x*x \n",
        "g(7)"
      ],
      "metadata": {
        "colab": {
          "base_uri": "https://localhost:8080/"
        },
        "id": "czaePtsML8cY",
        "outputId": "10669a76-2d83-46e9-f5a5-e44707a1acf7"
      },
      "execution_count": 9,
      "outputs": [
        {
          "output_type": "execute_result",
          "data": {
            "text/plain": [
              "343"
            ]
          },
          "metadata": {},
          "execution_count": 9
        }
      ]
    },
    {
      "cell_type": "code",
      "source": [
        "#lambda functions with filter\n",
        "li = [5, 7, 22, 97, 54, 62, 77, 23, 73, 61] \n",
        "final_list = list(filter(lambda x: (x % 2 != 0) , li)) \n",
        "print(final_list) "
      ],
      "metadata": {
        "colab": {
          "base_uri": "https://localhost:8080/"
        },
        "id": "6OThQc9TMKSc",
        "outputId": "c7abe706-3d90-4764-983d-5e6e4bfb9009"
      },
      "execution_count": 10,
      "outputs": [
        {
          "output_type": "stream",
          "name": "stdout",
          "text": [
            "[5, 7, 97, 77, 23, 73, 61]\n"
          ]
        }
      ]
    },
    {
      "cell_type": "code",
      "source": [
        "#lambda functions with map\n",
        "li = [5, 7, 22, 97, 54, 62, 77, 23, 73, 61] \n",
        "final_list = list(map(lambda x: x**2 , li)) \n",
        "print(final_list) "
      ],
      "metadata": {
        "colab": {
          "base_uri": "https://localhost:8080/"
        },
        "id": "QNaSDYtvMR8t",
        "outputId": "8c1c9c01-cea6-48f6-fe23-2ad48052c397"
      },
      "execution_count": 12,
      "outputs": [
        {
          "output_type": "stream",
          "name": "stdout",
          "text": [
            "[25, 49, 484, 9409, 2916, 3844, 5929, 529, 5329, 3721]\n"
          ]
        }
      ]
    },
    {
      "cell_type": "code",
      "source": [
        "from functools import reduce\n",
        "li = [5, 8, 10, 20, 50, 100] \n",
        "sum = reduce((lambda x, y: x + y), li) \n",
        "print (sum) "
      ],
      "metadata": {
        "colab": {
          "base_uri": "https://localhost:8080/"
        },
        "id": "IqybhZvRMW6O",
        "outputId": "2fdc46d0-73dc-4fbe-d2f5-6951f3f5acff"
      },
      "execution_count": 13,
      "outputs": [
        {
          "output_type": "stream",
          "name": "stdout",
          "text": [
            "193\n"
          ]
        }
      ]
    }
  ]
}